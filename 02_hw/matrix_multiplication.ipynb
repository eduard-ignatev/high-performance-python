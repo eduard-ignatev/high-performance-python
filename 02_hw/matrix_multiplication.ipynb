{
 "cells": [
  {
   "cell_type": "markdown",
   "metadata": {
    "id": "-rj6JxC7DCff"
   },
   "source": [
    "## Compile Static"
   ]
  },
  {
   "cell_type": "code",
   "execution_count": 1,
   "metadata": {
    "colab": {
     "base_uri": "https://localhost:8080/"
    },
    "id": "M-FqoSlg9BF4",
    "outputId": "7bcece00-aa61-42d6-b732-c1c2490f56d2"
   },
   "outputs": [
    {
     "name": "stdout",
     "output_type": "stream",
     "text": [
      "Writing matrix_multiply.c\n"
     ]
    }
   ],
   "source": [
    "%%writefile matrix_multiply.c\n",
    "#include <stdio.h>\n",
    "\n",
    "void matrix_multiply(int n, int A[][n], int B[][n], int C[][n]) {\n",
    "    for (int i = 0; i < n; i++) {\n",
    "        for (int j = 0; j < n; j++) {\n",
    "            C[i][j] = 0;\n",
    "            for (int k = 0; k < n; k++) {\n",
    "                C[i][j] += A[i][k] * B[k][j];\n",
    "            }\n",
    "        }\n",
    "    }\n",
    "}"
   ]
  },
  {
   "cell_type": "code",
   "execution_count": 2,
   "metadata": {
    "colab": {
     "base_uri": "https://localhost:8080/"
    },
    "id": "IVWMWe3A9CVQ",
    "outputId": "ac37c874-c410-4e54-de5c-4a1d361c1c69"
   },
   "outputs": [
    {
     "name": "stdout",
     "output_type": "stream",
     "text": [
      "Writing matrix_vector_multiply.c\n"
     ]
    }
   ],
   "source": [
    "%%writefile matrix_vector_multiply.c\n",
    "#include <stdio.h>\n",
    "\n",
    "void matrix_vector_multiply(int n, int A[][n], int B[], int C[]) {\n",
    "    for (int i = 0; i < n; i++) {\n",
    "        C[i] = 0;\n",
    "        for (int j = 0; j < n; j++) {\n",
    "            C[i] += A[i][j] * B[j];\n",
    "        }\n",
    "    }\n",
    "}"
   ]
  },
  {
   "cell_type": "code",
   "execution_count": 3,
   "metadata": {
    "colab": {
     "base_uri": "https://localhost:8080/"
    },
    "id": "yJi0YFTp-iBw",
    "outputId": "8b587275-9d8b-40ec-c271-c3f1194a8c8e"
   },
   "outputs": [
    {
     "name": "stdout",
     "output_type": "stream",
     "text": [
      "Writing main.c\n"
     ]
    }
   ],
   "source": [
    "%%writefile main.c\n",
    "#include <stdio.h>\n",
    "#include <stdlib.h>\n",
    "\n",
    "void matrix_multiply(int n, int A[][n], int B[][n], int C[][n]);\n",
    "void matrix_vector_multiply(int n, int A[][n], int B[], int C[]);\n",
    "\n",
    "int main(int argc, char *argv[]) {\n",
    "\n",
    "    int N = atoi(argv[1]);\n",
    "\n",
    "    // Allocate memory for matrices and vector\n",
    "    int (*A)[N] = malloc(sizeof(int[N][N]));\n",
    "    int (*B)[N] = malloc(sizeof(int[N][N]));\n",
    "    int (*C)[N] = malloc(sizeof(int[N][N]));\n",
    "    int *D = malloc(sizeof(int[N]));\n",
    "    int *E = malloc(sizeof(int[N]));\n",
    "\n",
    "    // Generate random values for matrices and vector\n",
    "    for (int i = 0; i < N; i++) {\n",
    "        for (int j = 0; j < N; j++) {\n",
    "            A[i][j] = rand() % 10; // Generate random numbers between 0 and 9\n",
    "            B[i][j] = rand() % 10;\n",
    "        }\n",
    "        D[i] = rand() % 10;\n",
    "    }\n",
    "\n",
    "    // Perform matrix multiplication\n",
    "    matrix_multiply(N, A, B, C);\n",
    "\n",
    "    // Perform matrix-vector multiplication\n",
    "    matrix_vector_multiply(N, A, D, E);\n",
    "\n",
    "    // Free allocated memory\n",
    "    free(A);\n",
    "    free(B);\n",
    "    free(C);\n",
    "    free(D);\n",
    "    free(E);\n",
    "\n",
    "    return 0;\n",
    "}"
   ]
  },
  {
   "cell_type": "code",
   "execution_count": 4,
   "metadata": {
    "id": "nEt6prON_Y_c"
   },
   "outputs": [],
   "source": [
    "!gcc main.c matrix_multiply.c matrix_vector_multiply.c -static -o great_program"
   ]
  },
  {
   "cell_type": "code",
   "execution_count": 5,
   "metadata": {
    "colab": {
     "base_uri": "https://localhost:8080/"
    },
    "id": "cJb6t6_gCl65",
    "outputId": "2871cb25-6d4c-4ac8-9330-492301a0ed33"
   },
   "outputs": [
    {
     "name": "stdout",
     "output_type": "stream",
     "text": [
      "607 ms ± 7.86 ms per loop (mean ± std. dev. of 7 runs, 1 loop each)\n"
     ]
    }
   ],
   "source": [
    "%%timeit\n",
    "!./great_program 512"
   ]
  },
  {
   "cell_type": "markdown",
   "metadata": {
    "id": "P0H1mgSBDHRh"
   },
   "source": [
    "## Compile Opt/Debug"
   ]
  },
  {
   "cell_type": "code",
   "execution_count": 6,
   "metadata": {
    "id": "JT9jK3UhDaU0"
   },
   "outputs": [],
   "source": [
    "!gcc main.c matrix_multiply.c matrix_vector_multiply.c -fPIC -shared -g -o great_program_debug.so"
   ]
  },
  {
   "cell_type": "code",
   "execution_count": 7,
   "metadata": {
    "id": "zFyvAt5jEL3C"
   },
   "outputs": [],
   "source": [
    "!gcc main.c matrix_multiply.c matrix_vector_multiply.c -fPIC -shared -O3 -o great_program_opt.so"
   ]
  },
  {
   "cell_type": "code",
   "execution_count": 8,
   "metadata": {
    "colab": {
     "base_uri": "https://localhost:8080/"
    },
    "id": "L_mY_C5lEO8m",
    "outputId": "d279fc98-dcba-4161-bda6-71d4581e2f32"
   },
   "outputs": [
    {
     "name": "stdout",
     "output_type": "stream",
     "text": [
      "108 ms ± 64.1 μs per loop (mean ± std. dev. of 7 runs, 10 loops each)\n"
     ]
    }
   ],
   "source": [
    "%%timeit\n",
    "!./great_program_debug.so 512"
   ]
  },
  {
   "cell_type": "code",
   "execution_count": 9,
   "metadata": {
    "colab": {
     "base_uri": "https://localhost:8080/"
    },
    "id": "xZ7_PXYOEkaW",
    "outputId": "c48cfb07-0fb7-4da9-b608-1317b654e8c3"
   },
   "outputs": [
    {
     "name": "stdout",
     "output_type": "stream",
     "text": [
      "108 ms ± 107 μs per loop (mean ± std. dev. of 7 runs, 10 loops each)\n"
     ]
    }
   ],
   "source": [
    "%%timeit\n",
    "!./great_program_opt.so 512"
   ]
  },
  {
   "cell_type": "markdown",
   "metadata": {
    "id": "WII7OrMcFPXX"
   },
   "source": [
    "## ctypes"
   ]
  },
  {
   "cell_type": "code",
   "execution_count": 10,
   "metadata": {
    "id": "jVQSNNrWHTsh"
   },
   "outputs": [],
   "source": [
    "import ctypes"
   ]
  },
  {
   "cell_type": "code",
   "execution_count": 11,
   "metadata": {
    "id": "ajnpONnxE45P"
   },
   "outputs": [],
   "source": [
    "great_program_py = ctypes.CDLL('./great_program_opt.so')"
   ]
  },
  {
   "cell_type": "code",
   "execution_count": 12,
   "metadata": {
    "id": "jCUcCGHAowtg"
   },
   "outputs": [],
   "source": [
    "great_program_py.main.argtypes = [ctypes.c_int, ctypes.POINTER(ctypes.c_char_p)]\n",
    "great_program_py.main.restype = ctypes.c_int"
   ]
  },
  {
   "cell_type": "code",
   "execution_count": 13,
   "metadata": {
    "id": "beclIo98HY4c"
   },
   "outputs": [],
   "source": [
    "argc = 2\n",
    "argv = (ctypes.c_char_p * argc)()\n",
    "argv[0] = b'./great_program_opt.so'\n",
    "argv[1] = b'512'"
   ]
  },
  {
   "cell_type": "code",
   "execution_count": 14,
   "metadata": {},
   "outputs": [
    {
     "name": "stdout",
     "output_type": "stream",
     "text": [
      "171 ms ± 2.06 ms per loop (mean ± std. dev. of 7 runs, 1 loop each)\n"
     ]
    }
   ],
   "source": [
    "%%timeit\n",
    "great_program_py.main(argc, argv)"
   ]
  },
  {
   "cell_type": "markdown",
   "metadata": {
    "id": "G01IZ7yPvG1b"
   },
   "source": [
    "## Cython"
   ]
  },
  {
   "cell_type": "code",
   "execution_count": 15,
   "metadata": {},
   "outputs": [
    {
     "name": "stdout",
     "output_type": "stream",
     "text": [
      "Requirement already satisfied: cython in /home/edd-ign/anaconda3/lib/python3.11/site-packages (3.0.12)\n"
     ]
    }
   ],
   "source": [
    "!pip install cython"
   ]
  },
  {
   "cell_type": "code",
   "execution_count": 16,
   "metadata": {},
   "outputs": [],
   "source": [
    "%load_ext cython"
   ]
  },
  {
   "cell_type": "code",
   "execution_count": 17,
   "metadata": {
    "colab": {
     "base_uri": "https://localhost:8080/"
    },
    "id": "quCLoP1F2n63",
    "outputId": "71cc4966-d0ba-4d75-f901-f15df9633690"
   },
   "outputs": [
    {
     "name": "stdout",
     "output_type": "stream",
     "text": [
      "Writing great_program_cython.pyx\n"
     ]
    }
   ],
   "source": [
    "%%writefile great_program_cython.pyx\n",
    "cimport cython\n",
    "from libc.stdlib cimport rand, RAND_MAX, srand\n",
    "\n",
    "\n",
    "def matrix_multiply(double[:, :] matrix_a,\n",
    "                           double[:, :] matrix_b,\n",
    "                           int n):\n",
    "    \"\"\"\n",
    "    Performs square matrix multiplication C = A * B.\n",
    "\n",
    "    Args:\n",
    "        matrix_a (double[:, :]): Square matrix A (n x n).\n",
    "        matrix_b (double[:, :]): Square matrix B (n x n).\n",
    "        n (int): Dimension of the matrices (n x n).\n",
    "\n",
    "    Returns:\n",
    "        double[:, :]: Square matrix C (n x n) resulting from A * B.\n",
    "    \"\"\"\n",
    "    cdef double[:, :] matrix_c = cython.double[:, ::1](shape=(n, n)) # C array memoryview\n",
    "    cdef int i, j, k\n",
    "\n",
    "    for i in range(n):\n",
    "        for j in range(n):\n",
    "            matrix_c[i, j] = 0.0 # Initialize to 0\n",
    "            for k in range(n):\n",
    "                matrix_c[i, j] += matrix_a[i, k] * matrix_b[k, j]\n",
    "    return matrix_c\n",
    "\n",
    "\n",
    "def matrix_vector_multiply(double[:, :] matrix_m,\n",
    "                            double[:] vector_v,\n",
    "                            int n):\n",
    "    \"\"\"\n",
    "    Performs matrix-vector multiplication v_out = M * v_in.\n",
    "\n",
    "    Args:\n",
    "        matrix_m (double[:, :]): Square matrix M (n x n).\n",
    "        vector_v (double[:]): Vector v_in (n).\n",
    "        n (int): Dimension of the matrix and vector.\n",
    "\n",
    "    Returns:\n",
    "        double[:]: Vector v_out (n) resulting from M * v_in.\n",
    "    \"\"\"\n",
    "    cdef double[:] vector_out = cython.double[::1](shape=(n,)) # C array memoryview\n",
    "    cdef int i, j\n",
    "\n",
    "    for i in range(n):\n",
    "        vector_out[i] = 0.0 # Initialize to 0\n",
    "        for j in range(n):\n",
    "            vector_out[i] += matrix_m[i, j] * vector_v[j]\n",
    "    return vector_out\n",
    "\n",
    "\n",
    "def main(int n):\n",
    "\n",
    "    cdef double[:, :] matrix_a = cython.double[:, ::1](shape=(n, n))\n",
    "    cdef double[:, :] matrix_b = cython.double[:, ::1](shape=(n, n))\n",
    "    cdef double[:, :] matrix_m = cython.double[:, ::1](shape=(n, n))\n",
    "    cdef double[:] vector_v = cython.double[::1](shape=(n,))\n",
    "    cdef int i, j\n",
    "\n",
    "    for i in range(n):\n",
    "        for j in range(n):\n",
    "            matrix_a[i, j] = <double>rand() / <double>RAND_MAX\n",
    "            matrix_b[i, j] = <double>rand() / <double>RAND_MAX\n",
    "            matrix_m[i, j] = <double>rand() / <double>RAND_MAX\n",
    "        vector_v[i] = <double>rand() / <double>RAND_MAX\n",
    "\n",
    "\n",
    "    matrix_multiply(matrix_a, matrix_b, n)\n",
    "    matrix_vector_multiply(matrix_m, vector_v, n)\n",
    "\n",
    "    return 0"
   ]
  },
  {
   "cell_type": "code",
   "execution_count": 18,
   "metadata": {
    "colab": {
     "base_uri": "https://localhost:8080/"
    },
    "id": "A3Yl9pzwzDkb",
    "outputId": "044541d0-e076-46f6-fc47-2d0709cc8a16"
   },
   "outputs": [
    {
     "name": "stdout",
     "output_type": "stream",
     "text": [
      "Writing setup.py\n"
     ]
    }
   ],
   "source": [
    "%%writefile setup.py\n",
    "from setuptools import setup\n",
    "from Cython.Build import cythonize\n",
    "\n",
    "setup(\n",
    "    ext_modules=cythonize(\"great_program_cython.pyx\")\n",
    ")"
   ]
  },
  {
   "cell_type": "code",
   "execution_count": 19,
   "metadata": {
    "id": "Ct3ek5bFzKo3"
   },
   "outputs": [
    {
     "name": "stdout",
     "output_type": "stream",
     "text": [
      "Compiling great_program_cython.pyx because it changed.\n",
      "[1/1] Cythonizing great_program_cython.pyx\n",
      "/home/edd-ign/anaconda3/lib/python3.11/site-packages/Cython/Compiler/Main.py:381: FutureWarning: Cython directive 'language_level' not set, using '3str' for now (Py3). This has changed from earlier releases! File: /home/edd-ign/projects/matrix-multiplication2/great_program_cython.pyx\n",
      "  tree = Parsing.p_module(s, pxd, full_module_name)\n",
      "running build_ext\n",
      "building 'great_program_cython' extension\n",
      "creating build\n",
      "creating build/temp.linux-x86_64-cpython-311\n",
      "/home/edd-ign/anaconda3/bin/x86_64-conda-linux-gnu-cc -DNDEBUG -fwrapv -O2 -Wall -fPIC -O2 -isystem /home/edd-ign/anaconda3/include -fPIC -O2 -isystem /home/edd-ign/anaconda3/include -march=nocona -mtune=haswell -ftree-vectorize -fPIC -fstack-protector-strong -fno-plt -O2 -ffunction-sections -pipe -isystem /home/edd-ign/anaconda3/include -DNDEBUG -D_FORTIFY_SOURCE=2 -O2 -isystem /home/edd-ign/anaconda3/include -fPIC -I/home/edd-ign/anaconda3/include/python3.11 -c great_program_cython.c -o build/temp.linux-x86_64-cpython-311/great_program_cython.o\n",
      "creating build/lib.linux-x86_64-cpython-311\n",
      "/home/edd-ign/anaconda3/bin/x86_64-conda-linux-gnu-cc -shared -Wl,-rpath,/home/edd-ign/anaconda3/lib -Wl,-rpath-link,/home/edd-ign/anaconda3/lib -L/home/edd-ign/anaconda3/lib -Wl,-rpath,/home/edd-ign/anaconda3/lib -Wl,-rpath-link,/home/edd-ign/anaconda3/lib -L/home/edd-ign/anaconda3/lib -Wl,-O2 -Wl,--sort-common -Wl,--as-needed -Wl,-z,relro -Wl,-z,now -Wl,--disable-new-dtags -Wl,--gc-sections -Wl,-rpath,/home/edd-ign/anaconda3/lib -Wl,-rpath-link,/home/edd-ign/anaconda3/lib -L/home/edd-ign/anaconda3/lib -march=nocona -mtune=haswell -ftree-vectorize -fPIC -fstack-protector-strong -fno-plt -O2 -ffunction-sections -pipe -isystem /home/edd-ign/anaconda3/include -DNDEBUG -D_FORTIFY_SOURCE=2 -O2 -isystem /home/edd-ign/anaconda3/include build/temp.linux-x86_64-cpython-311/great_program_cython.o -o build/lib.linux-x86_64-cpython-311/great_program_cython.cpython-311-x86_64-linux-gnu.so\n",
      "copying build/lib.linux-x86_64-cpython-311/great_program_cython.cpython-311-x86_64-linux-gnu.so -> \n"
     ]
    }
   ],
   "source": [
    "!python setup.py build_ext --inplace"
   ]
  },
  {
   "cell_type": "code",
   "execution_count": 20,
   "metadata": {
    "id": "OBnekHANvJHj"
   },
   "outputs": [],
   "source": [
    "import great_program_cython"
   ]
  },
  {
   "cell_type": "code",
   "execution_count": 21,
   "metadata": {},
   "outputs": [
    {
     "ename": "NameError",
     "evalue": "name 'cython' is not defined",
     "output_type": "error",
     "traceback": [
      "\u001b[0;31m---------------------------------------------------------------------------\u001b[0m",
      "\u001b[0;31mNameError\u001b[0m                                 Traceback (most recent call last)",
      "Cell \u001b[0;32mIn[21], line 1\u001b[0m\n\u001b[0;32m----> 1\u001b[0m great_program_cython\u001b[38;5;241m.\u001b[39mmain(\u001b[38;5;241m512\u001b[39m)\n",
      "File \u001b[0;32m~/projects/matrix-multiplication2/great_program_cython.pyx:56\u001b[0m, in \u001b[0;36mgreat_program_cython.main\u001b[0;34m()\u001b[0m\n\u001b[1;32m     54\u001b[0m def main(int n):\n\u001b[1;32m     55\u001b[0m \n\u001b[0;32m---> 56\u001b[0m     cdef double[:, :] matrix_a = cython.double[:, ::1](shape=(n, n))\n\u001b[1;32m     57\u001b[0m     cdef double[:, :] matrix_b = cython.double[:, ::1](shape=(n, n))\n\u001b[1;32m     58\u001b[0m     cdef double[:, :] matrix_m = cython.double[:, ::1](shape=(n, n))\n",
      "\u001b[0;31mNameError\u001b[0m: name 'cython' is not defined"
     ]
    }
   ],
   "source": [
    "great_program_cython.main(512)"
   ]
  }
 ],
 "metadata": {
  "colab": {
   "provenance": []
  },
  "kernelspec": {
   "display_name": "Python 3 (ipykernel)",
   "language": "python",
   "name": "python3"
  },
  "language_info": {
   "codemirror_mode": {
    "name": "ipython",
    "version": 3
   },
   "file_extension": ".py",
   "mimetype": "text/x-python",
   "name": "python",
   "nbconvert_exporter": "python",
   "pygments_lexer": "ipython3",
   "version": "3.11.5"
  }
 },
 "nbformat": 4,
 "nbformat_minor": 4
}
