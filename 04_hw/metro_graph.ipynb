{
  "nbformat": 4,
  "nbformat_minor": 0,
  "metadata": {
    "colab": {
      "provenance": [],
      "authorship_tag": "ABX9TyPS29yDnDDQ23E0Dendu9rz",
      "include_colab_link": true
    },
    "kernelspec": {
      "name": "python3",
      "display_name": "Python 3"
    },
    "language_info": {
      "name": "python"
    }
  },
  "cells": [
    {
      "cell_type": "markdown",
      "metadata": {
        "id": "view-in-github",
        "colab_type": "text"
      },
      "source": [
        "<a href=\"https://colab.research.google.com/github/eduard-ignatev/high-performance-python/blob/main/04_hw/metro_graph.ipynb\" target=\"_parent\"><img src=\"https://colab.research.google.com/assets/colab-badge.svg\" alt=\"Open In Colab\"/></a>"
      ]
    },
    {
      "cell_type": "code",
      "execution_count": 1,
      "metadata": {
        "colab": {
          "base_uri": "https://localhost:8080/"
        },
        "id": "9HWtlxmZG9M0",
        "outputId": "2fd880c0-3f97-4c67-9607-a8c04a674313"
      },
      "outputs": [
        {
          "output_type": "stream",
          "name": "stdout",
          "text": [
            "--2025-03-24 19:15:42--  https://raw.githubusercontent.com/ninadicara/tube-journeys/refs/heads/master/london.stations.csv\n",
            "Resolving raw.githubusercontent.com (raw.githubusercontent.com)... 185.199.111.133, 185.199.108.133, 185.199.110.133, ...\n",
            "Connecting to raw.githubusercontent.com (raw.githubusercontent.com)|185.199.111.133|:443... connected.\n",
            "HTTP request sent, awaiting response... 200 OK\n",
            "Length: 17233 (17K) [text/plain]\n",
            "Saving to: ‘london.stations.csv.2’\n",
            "\n",
            "\rlondon.stations.csv   0%[                    ]       0  --.-KB/s               \rlondon.stations.csv 100%[===================>]  16.83K  --.-KB/s    in 0s      \n",
            "\n",
            "2025-03-24 19:15:42 (68.5 MB/s) - ‘london.stations.csv.2’ saved [17233/17233]\n",
            "\n",
            "--2025-03-24 19:15:42--  https://raw.githubusercontent.com/ninadicara/tube-journeys/refs/heads/master/london.connections.csv\n",
            "Resolving raw.githubusercontent.com (raw.githubusercontent.com)... 185.199.108.133, 185.199.109.133, 185.199.110.133, ...\n",
            "Connecting to raw.githubusercontent.com (raw.githubusercontent.com)|185.199.108.133|:443... connected.\n",
            "HTTP request sent, awaiting response... 200 OK\n",
            "Length: 6321 (6.2K) [text/plain]\n",
            "Saving to: ‘london.connections.csv.2’\n",
            "\n",
            "london.connections. 100%[===================>]   6.17K  --.-KB/s    in 0s      \n",
            "\n",
            "2025-03-24 19:15:42 (38.0 MB/s) - ‘london.connections.csv.2’ saved [6321/6321]\n",
            "\n"
          ]
        }
      ],
      "source": [
        "!wget https://raw.githubusercontent.com/ninadicara/tube-journeys/refs/heads/master/london.stations.csv\n",
        "!wget https://raw.githubusercontent.com/ninadicara/tube-journeys/refs/heads/master/london.connections.csv"
      ]
    },
    {
      "cell_type": "code",
      "source": [
        "import numpy as np\n",
        "import pandas as pd\n",
        "import scipy.sparse as sparse"
      ],
      "metadata": {
        "id": "Ry0gVNKhHL08"
      },
      "execution_count": 2,
      "outputs": []
    },
    {
      "cell_type": "code",
      "source": [
        "stations_df = pd.read_csv('london.stations.csv')\n",
        "connections_df = pd.read_csv('london.connections.csv')\n",
        "\n",
        "stations = sorted(set(connections_df['station1'].unique()) | set(connections_df['station2'].unique()))\n",
        "station_id_to_index = {station: i for i, station in enumerate(stations)}\n",
        "station_index_to_id = {i: station for i, station in enumerate(stations)}\n",
        "station_id_to_name = dict(zip(stations_df['id'], stations_df['name']))\n",
        "\n",
        "# Create empty adjacency matrix\n",
        "n_stations = len(stations)\n",
        "adj_matrix = np.zeros((n_stations, n_stations), dtype=int)\n",
        "\n",
        "# Fill in connections\n",
        "for _, row in connections_df.iterrows():\n",
        "    station1_idx = station_id_to_index[row['station1']]\n",
        "    station2_idx = station_id_to_index[row['station2']]\n",
        "\n",
        "    # Set connection in both directions\n",
        "    adj_matrix[station1_idx, station2_idx] = 1\n",
        "    adj_matrix[station2_idx, station1_idx] = 1\n",
        "\n",
        "adj_matrix = sparse.csr_matrix(adj_matrix)"
      ],
      "metadata": {
        "id": "L7h6elMzIbOW"
      },
      "execution_count": 3,
      "outputs": []
    },
    {
      "cell_type": "code",
      "source": [
        "adj_matrix"
      ],
      "metadata": {
        "colab": {
          "base_uri": "https://localhost:8080/"
        },
        "id": "uqnDDzia4UoB",
        "outputId": "d6ffabec-e67d-4c48-acf0-9f87dbbe38d8"
      },
      "execution_count": 4,
      "outputs": [
        {
          "output_type": "execute_result",
          "data": {
            "text/plain": [
              "<Compressed Sparse Row sparse matrix of dtype 'int64'\n",
              "\twith 698 stored elements and shape (302, 302)>"
            ]
          },
          "metadata": {},
          "execution_count": 4
        }
      ]
    },
    {
      "cell_type": "code",
      "source": [
        "# Print station info\n",
        "station_id = 11\n",
        "station_name = station_id_to_name[station_id]\n",
        "print(f\"Station ID: {station_id}, Station Name: {station_name}\")\n",
        "\n",
        "station_idx = station_id_to_index[station_id]\n",
        "connected_indices = adj_matrix[station_idx].nonzero()[1]\n",
        "connected_stations = [station_id_to_name[station_index_to_id[idx]] for idx in connected_indices]\n",
        "print(f\"Connected stations: {connected_stations}\")"
      ],
      "metadata": {
        "colab": {
          "base_uri": "https://localhost:8080/"
        },
        "id": "Hn3O37NV5z56",
        "outputId": "0e727cf3-28ce-4b78-e889-aa9192071bf5"
      },
      "execution_count": 5,
      "outputs": [
        {
          "output_type": "stream",
          "name": "stdout",
          "text": [
            "Station ID: 11, Station Name: Baker Street\n",
            "Connected stations: ['Bond Street', 'Edgware Road (C)', 'Finchley Road', 'Great Portland Street', 'Marylebone', \"Regent's Park\", \"St. John's Wood\"]\n"
          ]
        }
      ]
    },
    {
      "cell_type": "code",
      "source": [
        "# Print station info\n",
        "station_id = 25\n",
        "station_name = station_id_to_name[station_id]\n",
        "print(f\"Station ID: {station_id}, Station Name: {station_name}\")\n",
        "\n",
        "station_idx = station_id_to_index[station_id]\n",
        "connected_indices = adj_matrix[station_idx].nonzero()[1]\n",
        "connected_stations = [station_id_to_name[station_index_to_id[idx]] for idx in connected_indices]\n",
        "print(f\"Connected stations: {connected_stations}\")"
      ],
      "metadata": {
        "colab": {
          "base_uri": "https://localhost:8080/"
        },
        "id": "AXbP9MwN92hx",
        "outputId": "68ef1a7b-57ae-485a-8d6b-5af32cf2e25a"
      },
      "execution_count": 6,
      "outputs": [
        {
          "output_type": "stream",
          "name": "stdout",
          "text": [
            "Station ID: 25, Station Name: Blackfriars\n",
            "Connected stations: ['Mansion House', 'Temple']\n"
          ]
        }
      ]
    },
    {
      "cell_type": "markdown",
      "source": [
        "## PageRank"
      ],
      "metadata": {
        "id": "rjLcRywvEJod"
      }
    },
    {
      "cell_type": "code",
      "source": [
        "def pagerank_iterative(adjacency_matrix, alpha=0.85, max_iterations=100, tol=1e-6):\n",
        "    \"\"\"\n",
        "    Computes the PageRank vector for a given adjacency matrix.\n",
        "\n",
        "    Parameters:\n",
        "    -----------\n",
        "    adjacency_matrix : numpy.ndarray\n",
        "        The adjacency matrix where adjacency_matrix[i,j] = 1 if there is a link from page i to page j\n",
        "    alpha : float\n",
        "        The teleportation probability (damping factor), usually set to 0.85\n",
        "    max_iterations : int\n",
        "        Maximum number of iterations for the power method\n",
        "    tol : float\n",
        "        Convergence tolerance for the power method\n",
        "\n",
        "    Returns:\n",
        "    --------\n",
        "    numpy.ndarray\n",
        "        The PageRank vector where element i is the PageRank score of page i\n",
        "    int\n",
        "        Number of iterations performed\n",
        "    \"\"\"\n",
        "    n = adjacency_matrix.shape[0]\n",
        "\n",
        "    # Create the column-stochastic transition matrix\n",
        "    outbound_links = adjacency_matrix.sum(axis=1)\n",
        "    transition_matrix = np.zeros((n, n))\n",
        "\n",
        "    for i in range(n):\n",
        "        if outbound_links[i] > 0:\n",
        "            transition_matrix[i,:] = adjacency_matrix[i,:] / outbound_links[i]\n",
        "        else:\n",
        "            # If a page has no outgoing links, distribute evenly to all pages\n",
        "            transition_matrix[i,:] = np.ones(n) / n\n",
        "\n",
        "    # Transpose to get the correct Markov transition matrix\n",
        "    transition_matrix = transition_matrix.T\n",
        "\n",
        "    # Initialize the PageRank vector\n",
        "    pagerank_vector = np.ones(n) / n\n",
        "\n",
        "    # Apply the power method\n",
        "    for iteration in range(max_iterations):\n",
        "        # Store the previous PageRank vector to check for convergence\n",
        "        previous_pagerank = pagerank_vector.copy()\n",
        "\n",
        "        # Compute the new PageRank vector\n",
        "        # Formula: PR = alpha * (transition_matrix * PR) + (1-alpha) * (1/n)\n",
        "        pagerank_vector = alpha * np.dot(transition_matrix, pagerank_vector) + (1 - alpha) * np.ones(n) / n\n",
        "\n",
        "        # Check for convergence\n",
        "        if np.linalg.norm(pagerank_vector - previous_pagerank, 1) < tol:\n",
        "            return pagerank_vector, iteration + 1\n",
        "\n",
        "    return pagerank_vector, max_iterations"
      ],
      "metadata": {
        "id": "uznt9TFUth3n"
      },
      "execution_count": 7,
      "outputs": []
    },
    {
      "cell_type": "code",
      "source": [
        "alpha = 0.85\n",
        "\n",
        "pr_vector, iterations = pagerank_iterative(adj_matrix.toarray(), alpha)\n",
        "\n",
        "print(f\"PageRank converged after {iterations} iterations.\")\n",
        "print(f\"Sum of PageRank scores: {pr_vector.sum():.6f}\")"
      ],
      "metadata": {
        "colab": {
          "base_uri": "https://localhost:8080/"
        },
        "id": "G_-2JauXwmva",
        "outputId": "da5a49c3-f51d-42c4-ba13-25906cacb537"
      },
      "execution_count": 8,
      "outputs": [
        {
          "output_type": "stream",
          "name": "stdout",
          "text": [
            "PageRank converged after 65 iterations.\n",
            "Sum of PageRank scores: 1.000000\n"
          ]
        }
      ]
    },
    {
      "cell_type": "code",
      "source": [
        "df_pagerank = pd.DataFrame(pr_vector, columns=['pagerank_score'])\n",
        "df_pagerank['station'] = df_pagerank.index.to_series().map(station_index_to_id).map(station_id_to_name)\n",
        "df_pagerank.sort_values(by='pagerank_score', ascending=False).head(5)"
      ],
      "metadata": {
        "colab": {
          "base_uri": "https://localhost:8080/",
          "height": 206
        },
        "id": "iv5PX5Vm_UCb",
        "outputId": "f6b8b4c9-1b23-42dd-ab39-fd40f977a093"
      },
      "execution_count": 9,
      "outputs": [
        {
          "output_type": "execute_result",
          "data": {
            "text/plain": [
              "     pagerank_score                   station\n",
              "144        0.007921  King's Cross St. Pancras\n",
              "10         0.007614              Baker Street\n",
              "73         0.007047              Earl's Court\n",
              "12         0.006196                      Bank\n",
              "191        0.006178                Paddington"
            ],
            "text/html": [
              "\n",
              "  <div id=\"df-f23294a2-7aeb-4cf5-b8cf-714a449327c9\" class=\"colab-df-container\">\n",
              "    <div>\n",
              "<style scoped>\n",
              "    .dataframe tbody tr th:only-of-type {\n",
              "        vertical-align: middle;\n",
              "    }\n",
              "\n",
              "    .dataframe tbody tr th {\n",
              "        vertical-align: top;\n",
              "    }\n",
              "\n",
              "    .dataframe thead th {\n",
              "        text-align: right;\n",
              "    }\n",
              "</style>\n",
              "<table border=\"1\" class=\"dataframe\">\n",
              "  <thead>\n",
              "    <tr style=\"text-align: right;\">\n",
              "      <th></th>\n",
              "      <th>pagerank_score</th>\n",
              "      <th>station</th>\n",
              "    </tr>\n",
              "  </thead>\n",
              "  <tbody>\n",
              "    <tr>\n",
              "      <th>144</th>\n",
              "      <td>0.007921</td>\n",
              "      <td>King's Cross St. Pancras</td>\n",
              "    </tr>\n",
              "    <tr>\n",
              "      <th>10</th>\n",
              "      <td>0.007614</td>\n",
              "      <td>Baker Street</td>\n",
              "    </tr>\n",
              "    <tr>\n",
              "      <th>73</th>\n",
              "      <td>0.007047</td>\n",
              "      <td>Earl's Court</td>\n",
              "    </tr>\n",
              "    <tr>\n",
              "      <th>12</th>\n",
              "      <td>0.006196</td>\n",
              "      <td>Bank</td>\n",
              "    </tr>\n",
              "    <tr>\n",
              "      <th>191</th>\n",
              "      <td>0.006178</td>\n",
              "      <td>Paddington</td>\n",
              "    </tr>\n",
              "  </tbody>\n",
              "</table>\n",
              "</div>\n",
              "    <div class=\"colab-df-buttons\">\n",
              "\n",
              "  <div class=\"colab-df-container\">\n",
              "    <button class=\"colab-df-convert\" onclick=\"convertToInteractive('df-f23294a2-7aeb-4cf5-b8cf-714a449327c9')\"\n",
              "            title=\"Convert this dataframe to an interactive table.\"\n",
              "            style=\"display:none;\">\n",
              "\n",
              "  <svg xmlns=\"http://www.w3.org/2000/svg\" height=\"24px\" viewBox=\"0 -960 960 960\">\n",
              "    <path d=\"M120-120v-720h720v720H120Zm60-500h600v-160H180v160Zm220 220h160v-160H400v160Zm0 220h160v-160H400v160ZM180-400h160v-160H180v160Zm440 0h160v-160H620v160ZM180-180h160v-160H180v160Zm440 0h160v-160H620v160Z\"/>\n",
              "  </svg>\n",
              "    </button>\n",
              "\n",
              "  <style>\n",
              "    .colab-df-container {\n",
              "      display:flex;\n",
              "      gap: 12px;\n",
              "    }\n",
              "\n",
              "    .colab-df-convert {\n",
              "      background-color: #E8F0FE;\n",
              "      border: none;\n",
              "      border-radius: 50%;\n",
              "      cursor: pointer;\n",
              "      display: none;\n",
              "      fill: #1967D2;\n",
              "      height: 32px;\n",
              "      padding: 0 0 0 0;\n",
              "      width: 32px;\n",
              "    }\n",
              "\n",
              "    .colab-df-convert:hover {\n",
              "      background-color: #E2EBFA;\n",
              "      box-shadow: 0px 1px 2px rgba(60, 64, 67, 0.3), 0px 1px 3px 1px rgba(60, 64, 67, 0.15);\n",
              "      fill: #174EA6;\n",
              "    }\n",
              "\n",
              "    .colab-df-buttons div {\n",
              "      margin-bottom: 4px;\n",
              "    }\n",
              "\n",
              "    [theme=dark] .colab-df-convert {\n",
              "      background-color: #3B4455;\n",
              "      fill: #D2E3FC;\n",
              "    }\n",
              "\n",
              "    [theme=dark] .colab-df-convert:hover {\n",
              "      background-color: #434B5C;\n",
              "      box-shadow: 0px 1px 3px 1px rgba(0, 0, 0, 0.15);\n",
              "      filter: drop-shadow(0px 1px 2px rgba(0, 0, 0, 0.3));\n",
              "      fill: #FFFFFF;\n",
              "    }\n",
              "  </style>\n",
              "\n",
              "    <script>\n",
              "      const buttonEl =\n",
              "        document.querySelector('#df-f23294a2-7aeb-4cf5-b8cf-714a449327c9 button.colab-df-convert');\n",
              "      buttonEl.style.display =\n",
              "        google.colab.kernel.accessAllowed ? 'block' : 'none';\n",
              "\n",
              "      async function convertToInteractive(key) {\n",
              "        const element = document.querySelector('#df-f23294a2-7aeb-4cf5-b8cf-714a449327c9');\n",
              "        const dataTable =\n",
              "          await google.colab.kernel.invokeFunction('convertToInteractive',\n",
              "                                                    [key], {});\n",
              "        if (!dataTable) return;\n",
              "\n",
              "        const docLinkHtml = 'Like what you see? Visit the ' +\n",
              "          '<a target=\"_blank\" href=https://colab.research.google.com/notebooks/data_table.ipynb>data table notebook</a>'\n",
              "          + ' to learn more about interactive tables.';\n",
              "        element.innerHTML = '';\n",
              "        dataTable['output_type'] = 'display_data';\n",
              "        await google.colab.output.renderOutput(dataTable, element);\n",
              "        const docLink = document.createElement('div');\n",
              "        docLink.innerHTML = docLinkHtml;\n",
              "        element.appendChild(docLink);\n",
              "      }\n",
              "    </script>\n",
              "  </div>\n",
              "\n",
              "\n",
              "<div id=\"df-7ddd5e48-c863-446e-ade0-85bb1a4f293f\">\n",
              "  <button class=\"colab-df-quickchart\" onclick=\"quickchart('df-7ddd5e48-c863-446e-ade0-85bb1a4f293f')\"\n",
              "            title=\"Suggest charts\"\n",
              "            style=\"display:none;\">\n",
              "\n",
              "<svg xmlns=\"http://www.w3.org/2000/svg\" height=\"24px\"viewBox=\"0 0 24 24\"\n",
              "     width=\"24px\">\n",
              "    <g>\n",
              "        <path d=\"M19 3H5c-1.1 0-2 .9-2 2v14c0 1.1.9 2 2 2h14c1.1 0 2-.9 2-2V5c0-1.1-.9-2-2-2zM9 17H7v-7h2v7zm4 0h-2V7h2v10zm4 0h-2v-4h2v4z\"/>\n",
              "    </g>\n",
              "</svg>\n",
              "  </button>\n",
              "\n",
              "<style>\n",
              "  .colab-df-quickchart {\n",
              "      --bg-color: #E8F0FE;\n",
              "      --fill-color: #1967D2;\n",
              "      --hover-bg-color: #E2EBFA;\n",
              "      --hover-fill-color: #174EA6;\n",
              "      --disabled-fill-color: #AAA;\n",
              "      --disabled-bg-color: #DDD;\n",
              "  }\n",
              "\n",
              "  [theme=dark] .colab-df-quickchart {\n",
              "      --bg-color: #3B4455;\n",
              "      --fill-color: #D2E3FC;\n",
              "      --hover-bg-color: #434B5C;\n",
              "      --hover-fill-color: #FFFFFF;\n",
              "      --disabled-bg-color: #3B4455;\n",
              "      --disabled-fill-color: #666;\n",
              "  }\n",
              "\n",
              "  .colab-df-quickchart {\n",
              "    background-color: var(--bg-color);\n",
              "    border: none;\n",
              "    border-radius: 50%;\n",
              "    cursor: pointer;\n",
              "    display: none;\n",
              "    fill: var(--fill-color);\n",
              "    height: 32px;\n",
              "    padding: 0;\n",
              "    width: 32px;\n",
              "  }\n",
              "\n",
              "  .colab-df-quickchart:hover {\n",
              "    background-color: var(--hover-bg-color);\n",
              "    box-shadow: 0 1px 2px rgba(60, 64, 67, 0.3), 0 1px 3px 1px rgba(60, 64, 67, 0.15);\n",
              "    fill: var(--button-hover-fill-color);\n",
              "  }\n",
              "\n",
              "  .colab-df-quickchart-complete:disabled,\n",
              "  .colab-df-quickchart-complete:disabled:hover {\n",
              "    background-color: var(--disabled-bg-color);\n",
              "    fill: var(--disabled-fill-color);\n",
              "    box-shadow: none;\n",
              "  }\n",
              "\n",
              "  .colab-df-spinner {\n",
              "    border: 2px solid var(--fill-color);\n",
              "    border-color: transparent;\n",
              "    border-bottom-color: var(--fill-color);\n",
              "    animation:\n",
              "      spin 1s steps(1) infinite;\n",
              "  }\n",
              "\n",
              "  @keyframes spin {\n",
              "    0% {\n",
              "      border-color: transparent;\n",
              "      border-bottom-color: var(--fill-color);\n",
              "      border-left-color: var(--fill-color);\n",
              "    }\n",
              "    20% {\n",
              "      border-color: transparent;\n",
              "      border-left-color: var(--fill-color);\n",
              "      border-top-color: var(--fill-color);\n",
              "    }\n",
              "    30% {\n",
              "      border-color: transparent;\n",
              "      border-left-color: var(--fill-color);\n",
              "      border-top-color: var(--fill-color);\n",
              "      border-right-color: var(--fill-color);\n",
              "    }\n",
              "    40% {\n",
              "      border-color: transparent;\n",
              "      border-right-color: var(--fill-color);\n",
              "      border-top-color: var(--fill-color);\n",
              "    }\n",
              "    60% {\n",
              "      border-color: transparent;\n",
              "      border-right-color: var(--fill-color);\n",
              "    }\n",
              "    80% {\n",
              "      border-color: transparent;\n",
              "      border-right-color: var(--fill-color);\n",
              "      border-bottom-color: var(--fill-color);\n",
              "    }\n",
              "    90% {\n",
              "      border-color: transparent;\n",
              "      border-bottom-color: var(--fill-color);\n",
              "    }\n",
              "  }\n",
              "</style>\n",
              "\n",
              "  <script>\n",
              "    async function quickchart(key) {\n",
              "      const quickchartButtonEl =\n",
              "        document.querySelector('#' + key + ' button');\n",
              "      quickchartButtonEl.disabled = true;  // To prevent multiple clicks.\n",
              "      quickchartButtonEl.classList.add('colab-df-spinner');\n",
              "      try {\n",
              "        const charts = await google.colab.kernel.invokeFunction(\n",
              "            'suggestCharts', [key], {});\n",
              "      } catch (error) {\n",
              "        console.error('Error during call to suggestCharts:', error);\n",
              "      }\n",
              "      quickchartButtonEl.classList.remove('colab-df-spinner');\n",
              "      quickchartButtonEl.classList.add('colab-df-quickchart-complete');\n",
              "    }\n",
              "    (() => {\n",
              "      let quickchartButtonEl =\n",
              "        document.querySelector('#df-7ddd5e48-c863-446e-ade0-85bb1a4f293f button');\n",
              "      quickchartButtonEl.style.display =\n",
              "        google.colab.kernel.accessAllowed ? 'block' : 'none';\n",
              "    })();\n",
              "  </script>\n",
              "</div>\n",
              "\n",
              "    </div>\n",
              "  </div>\n"
            ],
            "application/vnd.google.colaboratory.intrinsic+json": {
              "type": "dataframe",
              "summary": "{\n  \"name\": \"df_pagerank\",\n  \"rows\": 5,\n  \"fields\": [\n    {\n      \"column\": \"pagerank_score\",\n      \"properties\": {\n        \"dtype\": \"number\",\n        \"std\": 0.0007982649136042585,\n        \"min\": 0.006177920373550225,\n        \"max\": 0.007921129429597608,\n        \"num_unique_values\": 5,\n        \"samples\": [\n          0.007613966446575526,\n          0.006177920373550225,\n          0.0070474973789163824\n        ],\n        \"semantic_type\": \"\",\n        \"description\": \"\"\n      }\n    },\n    {\n      \"column\": \"station\",\n      \"properties\": {\n        \"dtype\": \"string\",\n        \"num_unique_values\": 5,\n        \"samples\": [\n          \"Baker Street\",\n          \"Paddington\",\n          \"Earl's Court\"\n        ],\n        \"semantic_type\": \"\",\n        \"description\": \"\"\n      }\n    }\n  ]\n}"
            }
          },
          "metadata": {},
          "execution_count": 9
        }
      ]
    },
    {
      "cell_type": "markdown",
      "source": [
        "## Sparse vs Dense\n",
        "\n"
      ],
      "metadata": {
        "id": "MA8_hQUXEV7b"
      }
    },
    {
      "cell_type": "code",
      "source": [
        "def pagerank_algebraic(A, p=0.85, personalize=None, reverse=False):\n",
        "    \"\"\" Calculates PageRank given a csr graph\n",
        "\n",
        "    Inputs:\n",
        "    -------\n",
        "\n",
        "    G: a csr graph.\n",
        "    p: damping factor\n",
        "    personlize: if not None, should be an array with the size of the nodes\n",
        "                containing probability distributions.\n",
        "                It will be normalized automatically\n",
        "    reverse: If true, returns the reversed-PageRank\n",
        "\n",
        "    outputs\n",
        "    -------\n",
        "\n",
        "    PageRank Scores for the nodes\n",
        "\n",
        "    \"\"\"\n",
        "    # In Moler's algorithm, $$A_{ij}$$ represents the existences of an edge\n",
        "    # from node $$j$$ to $$i$$, while we have assumed the opposite!\n",
        "    if reverse:\n",
        "        A = A.T\n",
        "\n",
        "    n, _ = A.shape\n",
        "    r = np.asarray(A.sum(axis=1)).reshape(-1)\n",
        "\n",
        "    k = r.nonzero()[0]\n",
        "\n",
        "    D_1 = sparse.csr_matrix((1 / r[k], (k, k)), shape=(n, n))\n",
        "\n",
        "    if personalize is None:\n",
        "        personalize = np.ones(n)\n",
        "    personalize = personalize.reshape(n, 1)\n",
        "    s = (personalize / personalize.sum()) * n\n",
        "\n",
        "    I = sparse.eye(n)\n",
        "    x = sparse.linalg.spsolve((I - p * A.T @ D_1), s)\n",
        "\n",
        "    x = x / x.sum()\n",
        "    return x"
      ],
      "metadata": {
        "id": "PWEzVsyxCwvz"
      },
      "execution_count": 10,
      "outputs": []
    },
    {
      "cell_type": "code",
      "source": [
        "def generate_sparse_adjacency_matrix(num_nodes, density):\n",
        "  random_matrix = np.random.rand(num_nodes, num_nodes)\n",
        "  adjacency_matrix = (random_matrix < density).astype(int)\n",
        "  adjacency_matrix = np.maximum(adjacency_matrix, adjacency_matrix.transpose())\n",
        "  sparse_adjacency_matrix = sparse.csr_matrix(adjacency_matrix)\n",
        "  return sparse_adjacency_matrix"
      ],
      "metadata": {
        "id": "GfX-G7wYie6K"
      },
      "execution_count": 11,
      "outputs": []
    },
    {
      "cell_type": "code",
      "source": [
        "num_nodes = 1000\n",
        "density = 0.001\n",
        "sparse_adj_matrix = generate_sparse_adjacency_matrix(num_nodes, density)\n",
        "sparse_adj_matrix"
      ],
      "metadata": {
        "colab": {
          "base_uri": "https://localhost:8080/"
        },
        "id": "I2eUUEKOjrWt",
        "outputId": "b915a9dd-d92f-4b8f-a15a-01c00ac650f5"
      },
      "execution_count": 12,
      "outputs": [
        {
          "output_type": "execute_result",
          "data": {
            "text/plain": [
              "<Compressed Sparse Row sparse matrix of dtype 'int64'\n",
              "\twith 1952 stored elements and shape (1000, 1000)>"
            ]
          },
          "metadata": {},
          "execution_count": 12
        }
      ]
    },
    {
      "cell_type": "code",
      "source": [
        "%%timeit\n",
        "pagerank_algebraic(sparse_adj_matrix)"
      ],
      "metadata": {
        "colab": {
          "base_uri": "https://localhost:8080/"
        },
        "id": "x4ktVPX-kmA0",
        "outputId": "aa3628fa-0b9a-4bbe-ea91-6aa3719ac662"
      },
      "execution_count": 13,
      "outputs": [
        {
          "output_type": "stream",
          "name": "stdout",
          "text": [
            "5.89 ms ± 520 µs per loop (mean ± std. dev. of 7 runs, 100 loops each)\n"
          ]
        }
      ]
    },
    {
      "cell_type": "code",
      "source": [
        "%%timeit\n",
        "pagerank_iterative(sparse_adj_matrix.toarray())"
      ],
      "metadata": {
        "colab": {
          "base_uri": "https://localhost:8080/"
        },
        "id": "xQd5uXIwks3Q",
        "outputId": "d0afded8-8904-4e19-c80c-0648b736cf96"
      },
      "execution_count": 15,
      "outputs": [
        {
          "output_type": "stream",
          "name": "stdout",
          "text": [
            "48.5 ms ± 1.42 ms per loop (mean ± std. dev. of 7 runs, 10 loops each)\n"
          ]
        }
      ]
    }
  ]
}